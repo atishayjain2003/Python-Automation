{
 "cells": [
  {
   "cell_type": "code",
   "execution_count": 1,
   "id": "a2cd3e8e",
   "metadata": {},
   "outputs": [],
   "source": [
    "import webbrowser"
   ]
  },
  {
   "cell_type": "code",
   "execution_count": 4,
   "id": "29b015c5",
   "metadata": {},
   "outputs": [
    {
     "name": "stdout",
     "output_type": "stream",
     "text": [
      "Is it a youtube song?no\n",
      "Enter your searchVirat Kohli\n"
     ]
    }
   ],
   "source": [
    "x=input(\"Is it a youtube song?\")\n",
    "if x==\"yes\":\n",
    "    y=input(\"Enter song name\")\n",
    "    webbrowser.open(\"https://www.youtube.com/results?search_query=\"+y)\n",
    "else:\n",
    "    z=input(\"Enter your search\")\n",
    "    webbrowser.open(\"https://www.google.com/search?q=\"+z)"
   ]
  },
  {
   "cell_type": "code",
   "execution_count": null,
   "id": "a7477410",
   "metadata": {},
   "outputs": [],
   "source": []
  }
 ],
 "metadata": {
  "kernelspec": {
   "display_name": "Python 3 (ipykernel)",
   "language": "python",
   "name": "python3"
  },
  "language_info": {
   "codemirror_mode": {
    "name": "ipython",
    "version": 3
   },
   "file_extension": ".py",
   "mimetype": "text/x-python",
   "name": "python",
   "nbconvert_exporter": "python",
   "pygments_lexer": "ipython3",
   "version": "3.9.12"
  }
 },
 "nbformat": 4,
 "nbformat_minor": 5
}
